{
 "cells": [
  {
   "cell_type": "code",
   "execution_count": null,
   "id": "47f8ecc9-48e9-4ecd-9b65-a45560e16e60",
   "metadata": {},
   "outputs": [],
   "source": [
    "#4 write a program to print fibonacci series using mutual recursion\n",
    "def fibonacci_even(n, a=0, b=1):\n",
    "    # Base case: If n becomes 0, stop the recursion\n",
    "    if n <= 0:\n",
    "        return\n",
    "    print(a, end=\" \")\n",
    "    fibonacci_odd(n-1, b, a + b)\n",
    "\n",
    "def fibonacci_odd(n, a=0, b=1):\n",
    "    # Base case: If n becomes 0, stop the recursion\n",
    "    if n <= 0:\n",
    "        return\n",
    "    print(b, end=\" \")\n",
    "    fibonacci_even(n-1, a + b, a + 2 * b)\n",
    "\n",
    "# Example usage: Printing first 10 Fibonacci numbers\n",
    "n = 10\n",
    "print(\"Fibonacci Series:\")\n",
    "fibonacci_even(n)"
   ]
  }
 ],
 "metadata": {
  "kernelspec": {
   "display_name": "Python 3 (ipykernel)",
   "language": "python",
   "name": "python3"
  },
  "language_info": {
   "codemirror_mode": {
    "name": "ipython",
    "version": 3
   },
   "file_extension": ".py",
   "mimetype": "text/x-python",
   "name": "python",
   "nbconvert_exporter": "python",
   "pygments_lexer": "ipython3",
   "version": "3.12.4"
  }
 },
 "nbformat": 4,
 "nbformat_minor": 5
}
