{
 "cells": [
  {
   "cell_type": "code",
   "execution_count": null,
   "id": "566663ed-c8ee-486d-b37c-294a5232dc16",
   "metadata": {},
   "outputs": [],
   "source": [
    "#5 write a recursive function to convert a decimal number to its equivalent binary number\n",
    "def decimal_to_binary(n):\n",
    "    # Base case: if n is 0, return an empty string\n",
    "    if n == 0:\n",
    "        return \"\"\n",
    "    else:\n",
    "        # Recursive case: divide n by 2 and append the remainder\n",
    "        return decimal_to_binary(n // 2) + str(n % 2)\n",
    "\n",
    "# Example usage:\n",
    "n = 13\n",
    "binary = decimal_to_binary(n)\n",
    "# Handle the case for 0, as it returns an empty string\n",
    "binary = binary if binary else \"0\"\n",
    "print(f\"The binary equivalent of {n} is {binary}\")\n"
   ]
  }
 ],
 "metadata": {
  "kernelspec": {
   "display_name": "Python 3 (ipykernel)",
   "language": "python",
   "name": "python3"
  },
  "language_info": {
   "codemirror_mode": {
    "name": "ipython",
    "version": 3
   },
   "file_extension": ".py",
   "mimetype": "text/x-python",
   "name": "python",
   "nbconvert_exporter": "python",
   "pygments_lexer": "ipython3",
   "version": "3.12.4"
  }
 },
 "nbformat": 4,
 "nbformat_minor": 5
}
