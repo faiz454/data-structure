{
 "cells": [
  {
   "cell_type": "code",
   "execution_count": 1,
   "id": "12ad1592-8818-42c3-8045-58e533afdc32",
   "metadata": {},
   "outputs": [
    {
     "name": "stdin",
     "output_type": "stream",
     "text": [
      "Enter number of disks:  2\n"
     ]
    },
    {
     "name": "stdout",
     "output_type": "stream",
     "text": [
      "Move disk 1 from A to B\n",
      "Move disk 2 from A to C\n",
      "Move disk 1 from B to C\n"
     ]
    }
   ],
   "source": [
    "# 1 write a program to implement the tower of Hanoi problem\n",
    "def tower_of_hanoi(n, source, auxiliary, target):\n",
    "    if n == 1:\n",
    "        print(f\"Move disk 1 from {source} to {target}\")\n",
    "        return\n",
    "    tower_of_hanoi(n - 1, source, target, auxiliary)\n",
    "    print(f\"Move disk {n} from {source} to {target}\")\n",
    "    tower_of_hanoi(n - 1, auxiliary, source, target)\n",
    "\n",
    "# Example usage\n",
    "n = int(input(\"Enter number of disks: \"))\n",
    "tower_of_hanoi(n, 'A', 'B', 'C')\n",
    "\n"
   ]
  },
  {
   "cell_type": "code",
   "execution_count": null,
   "id": "17274852-5ad5-4f0e-8798-667ceceb8afa",
   "metadata": {},
   "outputs": [],
   "source": [
    "#2 Write a Program to find the sum of digits of a number using recursion\n",
    "def sum_of_digits(n):\n",
    "    # Base case: when n is 0, return 0\n",
    "    if n == 0:\n",
    "        return 0\n",
    "    else:\n",
    "        # Recursive case: sum the last digit and call the function with n // 10\n",
    "        return n % 10 + sum_of_digits(n // 10)\n",
    "\n",
    "# Example usage\n",
    "number = int(input(\"Enter a number: \"))\n",
    "result = sum_of_digits(number)\n",
    "print(f\"The sum of digits of {number} is: {result}\")"
   ]
  },
  {
   "cell_type": "code",
   "execution_count": null,
   "id": "b5cab2fd-4a47-456e-bc5a-ff3e15ba23ba",
   "metadata": {},
   "outputs": [],
   "source": [
    "#3 Write a Recursive Function for GCD calculation\n",
    "def gcd(a, b):\n",
    "    # Base case: if b becomes 0, the GCD is a\n",
    "    if b == 0:\n",
    "        return a\n",
    "    # Recursive case: call gcd with b and the remainder of a divided by b\n",
    "    return gcd(b, a % b)\n",
    "\n",
    "# Example usage:\n",
    "a = 56\n",
    "b = 98\n",
    "print(f\"The GCD of {a} and {b} is {gcd(a, b)}\")\n"
   ]
  },
  {
   "cell_type": "code",
   "execution_count": null,
   "id": "7d26ada7-2a7e-45fc-b072-8d6f95a6e7c6",
   "metadata": {},
   "outputs": [],
   "source": [
    "#4 write a program to print fibonacci series using mutual recursion\n",
    "def fibonacci_even(n, a=0, b=1):\n",
    "    # Base case: If n becomes 0, stop the recursion\n",
    "    if n <= 0:\n",
    "        return\n",
    "    print(a, end=\" \")\n",
    "    fibonacci_odd(n-1, b, a + b)\n",
    "\n",
    "def fibonacci_odd(n, a=0, b=1):\n",
    "    # Base case: If n becomes 0, stop the recursion\n",
    "    if n <= 0:\n",
    "        return\n",
    "    print(b, end=\" \")\n",
    "    fibonacci_even(n-1, a + b, a + 2 * b)\n",
    "\n",
    "# Example usage: Printing first 10 Fibonacci numbers\n",
    "n = 10\n",
    "print(\"Fibonacci Series:\")\n",
    "fibonacci_even(n)\n"
   ]
  },
  {
   "cell_type": "code",
   "execution_count": null,
   "id": "2f8c67da-e5b7-46f8-99a7-a0cb132723a9",
   "metadata": {},
   "outputs": [],
   "source": [
    "#5 write a recursive function to convert a decimal number to its equivalent binary number\n",
    "def decimal_to_binary(n):\n",
    "    # Base case: if n is 0, return an empty string\n",
    "    if n == 0:\n",
    "        return \"\"\n",
    "    else:\n",
    "        # Recursive case: divide n by 2 and append the remainder\n",
    "        return decimal_to_binary(n // 2) + str(n % 2)\n",
    "\n",
    "# Example usage:\n",
    "n = 13\n",
    "binary = decimal_to_binary(n)\n",
    "# Handle the case for 0, as it returns an empty string\n",
    "binary = binary if binary else \"0\"\n",
    "print(f\"The binary equivalent of {n} is {binary}\")\n",
    "\n"
   ]
  },
  {
   "cell_type": "code",
   "execution_count": null,
   "id": "1e352123-7017-4a4b-ae51-525803498712",
   "metadata": {},
   "outputs": [],
   "source": [
    "#6 write a recursive function to count the numbers of zeroes in an integer\n",
    "def count_zeroes(n):\n",
    "    # Base case: if the number becomes 0, return 0 (no more digits to check)\n",
    "    if n == 0:\n",
    "        return 0\n",
    "    \n",
    "    # Check if the last digit is 0\n",
    "    last_digit = n % 10\n",
    "    if last_digit == 0:\n",
    "        return 1 + count_zeroes(n // 10)  # Add 1 and recurse for the rest of the number\n",
    "    else:\n",
    "        return count_zeroes(n // 10)  # Recurse for the rest of the number without adding\n",
    "\n",
    "# Example usage:\n",
    "n = 1045020\n",
    "print(f\"The number of zeroes in {n} is {count_zeroes(n)}\")\n"
   ]
  },
  {
   "cell_type": "code",
   "execution_count": null,
   "id": "653ce1de-d45c-4e87-929b-3101d51ed53d",
   "metadata": {},
   "outputs": [],
   "source": [
    "#7 Write a recursive function to find the sum of the first n natural number\n",
    "def sum_of_natural_numbers(n):\n",
    "    # Base case: if n is 0, the sum is 0\n",
    "    if n == 0:\n",
    "        return 0\n",
    "    # Recursive case: sum of n is n + sum of (n-1)\n",
    "    return n + sum_of_natural_numbers(n - 1)\n",
    "\n",
    "# Example usage:\n",
    "n = 5\n",
    "print(f\"The sum of the first {n} natural numbers is {sum_of_natural_numbers(n)}\")\n"
   ]
  },
  {
   "cell_type": "code",
   "execution_count": null,
   "id": "44d7083d-994b-42d0-95b1-9d4beccfc599",
   "metadata": {},
   "outputs": [],
   "source": [
    "#8 Write a recursive function to count the number of digit in an integer \n",
    "def count_digits(n):\n",
    "    # Base case: if the number is 0, return 0 (no digits)\n",
    "    if n == 0:\n",
    "        return 0\n",
    "    # Recursive case: 1 + count the digits of the rest of the number\n",
    "    return 1 + count_digits(n // 10)\n",
    "\n",
    "# Example usage:\n",
    "n = 12345\n",
    "print(f\"The number of digits in {n} is {count_digits(n)}\")\n"
   ]
  },
  {
   "cell_type": "code",
   "execution_count": null,
   "id": "31ae97f2-ae41-4405-a3ab-44d8c6c3438a",
   "metadata": {},
   "outputs": [],
   "source": [
    "#9 Write a recursive function to count the number of odd digits in an integer \n",
    "def count_odd_digits(n):\n",
    "    # Base case: if n is 0, return 0 (no digits left)\n",
    "    if n == 0:\n",
    "        return 0\n",
    "    \n",
    "    # Check if the last digit is odd\n",
    "    last_digit = n % 10\n",
    "    if last_digit % 2 != 0:  # If the last digit is odd\n",
    "        return 1 + count_odd_digits(n // 10)  # Add 1 and recurse for the remaining digits\n",
    "    else:\n",
    "        return count_odd_digits(n // 10)  # Just recurse for the remaining digits\n",
    "\n",
    "# Example usage:\n",
    "n = 123456\n",
    "print(f\"The number of odd digits in {n} is {count_odd_digits(n)}\")\n"
   ]
  },
  {
   "cell_type": "code",
   "execution_count": null,
   "id": "a675284a-4486-49d0-b240-74ebee3d3788",
   "metadata": {},
   "outputs": [],
   "source": [
    "#10 Write a recursive function to find the lenght of a string \n",
    "def string_length(s):\n",
    "    # Base case: if the string is empty, return 0\n",
    "    if s == \"\":\n",
    "        return 0\n",
    "    # Recursive case: 1 + length of the remaining string\n",
    "    return 1 + string_length(s[1:])\n",
    "\n",
    "# Example usage:\n",
    "s = \"hello\"\n",
    "print(f\"The length of the string '{s}' is {string_length(s)}\")\n"
   ]
  },
  {
   "cell_type": "code",
   "execution_count": null,
   "id": "7bf2dbd1-93cb-4d72-a849-e46b72320eb1",
   "metadata": {},
   "outputs": [],
   "source": [
    "#11 Write a recursive function to count the number of digits in a string \n",
    "def count_digits_in_string(s):\n",
    "    # Base case: if the string is empty, return 0\n",
    "    if s == \"\":\n",
    "        return 0\n",
    "    \n",
    "    # Check if the first character is a digit\n",
    "    if s[0].isdigit():\n",
    "        return 1 + count_digits_in_string(s[1:])  # Add 1 and recurse for the rest of the string\n",
    "    else:\n",
    "        return count_digits_in_string(s[1:])  # Just recurse for the rest of the string\n",
    "\n",
    "# Example usage:\n",
    "s = \"hello123world456\"\n",
    "print(f\"The number of digits in the string '{s}' is {count_digits_in_string(s)}\")\n"
   ]
  },
  {
   "cell_type": "code",
   "execution_count": null,
   "id": "44f56568-9f6e-4f34-875e-c7dcae4a0417",
   "metadata": {},
   "outputs": [],
   "source": [
    "#12 Write a recursive function to print a string in reverse order\n",
    "def reverse_string(s):\n",
    "    # Base case: if the string is empty, return\n",
    "    if s == \"\":\n",
    "        return\n",
    "    # Recursive case: print the last character and recurse with the rest of the string\n",
    "    print(s[-1], end=\"\")  # Print the last character\n",
    "    reverse_string(s[:-1])  # Recurse with the rest of the string\n",
    "\n",
    "# Example usage:\n",
    "s = \"hello\"\n",
    "print(\"Reversed string:\", end=\" \")\n",
    "reverse_string(s)\n"
   ]
  },
  {
   "cell_type": "code",
   "execution_count": null,
   "id": "cfbf0ba1-87b8-4c68-b4dd-931e2196bba8",
   "metadata": {},
   "outputs": [],
   "source": [
    "#13 Write a recursive Function to count the numbers of vowels in a string \n",
    "def count_vowels(s):\n",
    "    # Base case: if the string is empty, return 0\n",
    "    if s == \"\":\n",
    "        return 0\n",
    "    \n",
    "    # Check if the first character is a vowel (a, e, i, o, u)\n",
    "    if s[0].lower() in 'aeiou':\n",
    "        return 1 + count_vowels(s[1:])  # Add 1 and recurse for the rest of the string\n",
    "    else:\n",
    "        return count_vowels(s[1:])  # Just recurse for the rest of the string\n",
    "\n",
    "# Example usage:\n",
    "s = \"hello world\"\n",
    "print(f\"The number of vowels in the string '{s}' is {count_vowels(s)}\")\n"
   ]
  }
 ],
 "metadata": {
  "kernelspec": {
   "display_name": "Python 3 (ipykernel)",
   "language": "python",
   "name": "python3"
  },
  "language_info": {
   "codemirror_mode": {
    "name": "ipython",
    "version": 3
   },
   "file_extension": ".py",
   "mimetype": "text/x-python",
   "name": "python",
   "nbconvert_exporter": "python",
   "pygments_lexer": "ipython3",
   "version": "3.12.4"
  }
 },
 "nbformat": 4,
 "nbformat_minor": 5
}
