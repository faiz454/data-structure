{
 "cells": [
  {
   "cell_type": "code",
   "execution_count": 2,
   "id": "7e77b86e-752e-4bd0-a733-367d0c34ab0b",
   "metadata": {},
   "outputs": [
    {
     "name": "stdout",
     "output_type": "stream",
     "text": [
      "10\n",
      "20\n",
      "30\n",
      "40\n",
      "50\n"
     ]
    }
   ],
   "source": [
    "from array import*\n",
    "array1=array('i',[10,20,30,40,50])\n",
    "for x in array1:\n",
    "    print(x)"
   ]
  },
  {
   "cell_type": "code",
   "execution_count": 3,
   "id": "11acfc15-21f0-4481-84d3-4f1cbae45cd2",
   "metadata": {},
   "outputs": [
    {
     "name": "stdout",
     "output_type": "stream",
     "text": [
      "10\n",
      "40\n"
     ]
    }
   ],
   "source": [
    "from array import*\n",
    "arr1=array('i',[10,20,30,40,50])\n",
    "print(arr1[0])\n",
    "print(arr1[3])"
   ]
  },
  {
   "cell_type": "code",
   "execution_count": 4,
   "id": "eed15657-11fd-47cd-8843-5fb0cc9dd703",
   "metadata": {},
   "outputs": [
    {
     "name": "stdout",
     "output_type": "stream",
     "text": [
      "10\n",
      "20\n",
      "30\n",
      "40\n",
      "50\n",
      "60\n"
     ]
    }
   ],
   "source": [
    "#insertion\n",
    "from array import*\n",
    "arr1=array('i',[10,20,30,40,60])\n",
    "arr1.insert(4,50)\n",
    "for x in arr1:\n",
    "    print(x)"
   ]
  },
  {
   "cell_type": "code",
   "execution_count": 5,
   "id": "6a47d7dc-4e30-4271-9343-b568be67e19c",
   "metadata": {},
   "outputs": [
    {
     "name": "stdout",
     "output_type": "stream",
     "text": [
      "10\n",
      "20\n",
      "30\n",
      "40\n",
      "50\n"
     ]
    }
   ],
   "source": [
    "#deletion\n",
    "from array import*\n",
    "arr1=array('i',[10,20,30,80,40,50])\n",
    "arr1.remove(80)\n",
    "for x in arr1:\n",
    "    print(x)"
   ]
  },
  {
   "cell_type": "code",
   "execution_count": 6,
   "id": "3844a8de-da95-4520-a4e8-93e4bb564c8c",
   "metadata": {},
   "outputs": [
    {
     "name": "stdout",
     "output_type": "stream",
     "text": [
      "1\n"
     ]
    }
   ],
   "source": [
    "#search \n",
    "from array import*\n",
    "arr1=array('i',[10,20,30,40,50])\n",
    "print(arr1.index(20))"
   ]
  },
  {
   "cell_type": "code",
   "execution_count": null,
   "id": "acc61394-00ee-499b-82cd-f43adc459516",
   "metadata": {},
   "outputs": [],
   "source": [
    "#update\n",
    "from array import*\n",
    "arr1=array('i',[10,20,30,40,60])\n",
    "arr1[4]=50\n",
    "for zx"
   ]
  },
  {
   "cell_type": "code",
   "execution_count": 7,
   "id": "45abe992-22a1-4686-a657-eeb52b01a900",
   "metadata": {},
   "outputs": [
    {
     "name": "stdout",
     "output_type": "stream",
     "text": [
      "10\n",
      "50\n"
     ]
    }
   ],
   "source": [
    "#find the largest and smallest elemets in an array\n",
    "from array import*\n",
    "arr1=array('i',[10,20,30,40,50])\n",
    "min=min(arr1)\n",
    "max=max(arr1)\n",
    "print(min)\n",
    "print(max)"
   ]
  },
  {
   "cell_type": "code",
   "execution_count": 1,
   "id": "c46983ee-af76-4e2d-b077-0df851f3ff49",
   "metadata": {},
   "outputs": [
    {
     "name": "stdout",
     "output_type": "stream",
     "text": [
      "sum 220\n",
      "avg 31.428571428571427\n"
     ]
    }
   ],
   "source": [
    "#sum and average of array eleemnts\n",
    "from array import*\n",
    "arr1=array('i',[10,20,30,40,50,30,40])\n",
    "type(arr1)\n",
    "sum=sum(arr1)\n",
    "print(\"sum\",sum)\n",
    "len=len(arr1)\n",
    "avg=sum/len\n",
    "print(\"avg\",avg)"
   ]
  },
  {
   "cell_type": "code",
   "execution_count": null,
   "id": "79ad9e41-2635-47c9-8b1f-97fc4421be46",
   "metadata": {},
   "outputs": [],
   "source": [
    "from array import*\n",
    "arr1=array('i',[10,20,30,40,50,60])\n",
    "type(x)\n"
   ]
  }
 ],
 "metadata": {
  "kernelspec": {
   "display_name": "Python 3 (ipykernel)",
   "language": "python",
   "name": "python3"
  },
  "language_info": {
   "codemirror_mode": {
    "name": "ipython",
    "version": 3
   },
   "file_extension": ".py",
   "mimetype": "text/x-python",
   "name": "python",
   "nbconvert_exporter": "python",
   "pygments_lexer": "ipython3",
   "version": "3.12.4"
  }
 },
 "nbformat": 4,
 "nbformat_minor": 5
}
