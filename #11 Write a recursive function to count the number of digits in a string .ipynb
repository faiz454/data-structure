{
 "cells": [
  {
   "cell_type": "code",
   "execution_count": null,
   "id": "e8b3609a-3876-4e75-a740-b978bc9fc4bf",
   "metadata": {},
   "outputs": [],
   "source": [
    "#11 Write a recursive function to count the number of digits in a string \n",
    "def count_digits_in_string(s):\n",
    "    # Base case: if the string is empty, return 0\n",
    "    if s == \"\":\n",
    "        return 0\n",
    "    \n",
    "    # Check if the first character is a digit\n",
    "    if s[0].isdigit():\n",
    "        return 1 + count_digits_in_string(s[1:])  # Add 1 and recurse for the rest of the string\n",
    "    else:\n",
    "        return count_digits_in_string(s[1:])  # Just recurse for the rest of the string\n",
    "\n",
    "# Example usage:\n",
    "s = \"hello123world456\"\n",
    "print(f\"The number of digits in the string '{s}' is {count_digits_in_string(s)}\")"
   ]
  }
 ],
 "metadata": {
  "kernelspec": {
   "display_name": "Python 3 (ipykernel)",
   "language": "python",
   "name": "python3"
  },
  "language_info": {
   "codemirror_mode": {
    "name": "ipython",
    "version": 3
   },
   "file_extension": ".py",
   "mimetype": "text/x-python",
   "name": "python",
   "nbconvert_exporter": "python",
   "pygments_lexer": "ipython3",
   "version": "3.12.4"
  }
 },
 "nbformat": 4,
 "nbformat_minor": 5
}
