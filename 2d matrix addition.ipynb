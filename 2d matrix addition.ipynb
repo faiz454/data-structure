{
 "cells": [
  {
   "cell_type": "code",
   "execution_count": 11,
   "id": "d07cc650-dfdf-4cd4-b047-eae67251f7de",
   "metadata": {},
   "outputs": [
    {
     "name": "stdout",
     "output_type": "stream",
     "text": [
      "5 7 7 \n",
      "7 8 11 \n",
      "7 8 10 \n"
     ]
    }
   ],
   "source": [
    "import numpy as np\n",
    "arr1=np.array([[1,2,3],[4,5,6],[7,8,9]])\n",
    "arr2=np.array([[4,5,4],[3,3,5],[0,0,1]])\n",
    "result=[]\n",
    "for i in range(len(arr1)):\n",
    "    row=[]\n",
    "    for j in range(len(arr1[0])):\n",
    "        row.append(arr1[i][j]+arr2[i][j])\n",
    "    result.append(row)\n",
    "\n",
    "\n",
    "for i in result:\n",
    "    for j in i:\n",
    "        print(j,end=\" \")\n",
    "    print()\n"
   ]
  },
  {
   "cell_type": "code",
   "execution_count": 8,
   "id": "d447bb2c-a359-40e1-9249-67aed471fb59",
   "metadata": {},
   "outputs": [
    {
     "name": "stdout",
     "output_type": "stream",
     "text": [
      "result [[ 5  7  7]\n",
      " [ 7  8 11]\n",
      " [ 7  8 10]]\n"
     ]
    }
   ],
   "source": [
    "#simple way of adding matrix\n",
    "import numpy as np\n",
    "arr1=np.array([[1,2,3],[4,5,6],[7,8,9]])\n",
    "arr2=np.array([[4,5,4],[3,3,5],[0,0,1]])\n",
    "print(\"result\",arr1+arr2)"
   ]
  },
  {
   "cell_type": "code",
   "execution_count": 9,
   "id": "f0f89eb5-9250-45fd-85ab-26b8929ea1ad",
   "metadata": {},
   "outputs": [
    {
     "name": "stdout",
     "output_type": "stream",
     "text": [
      "[[10 11 17]\n",
      " [31 35 47]\n",
      " [52 59 77]]\n"
     ]
    }
   ],
   "source": [
    "#multiplication\n",
    "import numpy as np\n",
    "arr1=np.array([[1,2,3],[4,5,6],[7,8,9]])\n",
    "arr2=np.array([[4,5,4],[3,3,5],[0,0,1]])\n",
    "result=np.dot(arr1,arr2)\n",
    "print(result)"
   ]
  },
  {
   "cell_type": "code",
   "execution_count": 12,
   "id": "8e399f29-4bab-431c-b942-a36bb375098e",
   "metadata": {},
   "outputs": [
    {
     "name": "stdout",
     "output_type": "stream",
     "text": [
      "[[1 4 7]\n",
      " [2 5 8]\n",
      " [3 6 9]]\n"
     ]
    }
   ],
   "source": [
    "import numpy as np\n",
    "arr1=np.array([[1,2,3],[4,5,6],[7,8,9]])\n",
    "arr2=np.array([[4,5,4],[3,3,5],[0,0,1]])\n",
    "result=np.transpose(arr1)\n",
    "print(result)"
   ]
  },
  {
   "cell_type": "code",
   "execution_count": null,
   "id": "651c3957-0743-416e-9711-759bb1ec42f6",
   "metadata": {},
   "outputs": [],
   "source": [
    "#multiplication using nested loops\n",
    "#transpose\n"
   ]
  }
 ],
 "metadata": {
  "kernelspec": {
   "display_name": "Python 3 (ipykernel)",
   "language": "python",
   "name": "python3"
  },
  "language_info": {
   "codemirror_mode": {
    "name": "ipython",
    "version": 3
   },
   "file_extension": ".py",
   "mimetype": "text/x-python",
   "name": "python",
   "nbconvert_exporter": "python",
   "pygments_lexer": "ipython3",
   "version": "3.12.4"
  }
 },
 "nbformat": 4,
 "nbformat_minor": 5
}
