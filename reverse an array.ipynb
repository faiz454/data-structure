{
 "cells": [
  {
   "cell_type": "code",
   "execution_count": 2,
   "id": "cec6284c-a499-4d60-a8ee-8f35c1c51430",
   "metadata": {},
   "outputs": [
    {
     "name": "stdout",
     "output_type": "stream",
     "text": [
      "array('i', [60, 50, 40, 30, 20, 10])\n"
     ]
    }
   ],
   "source": [
    "from array import*\n",
    "arr1=array('i',[10,20,30,40,50,60])\n",
    "type(arr1)\n",
    "rev=arr1[::-1]\n",
    "print(rev)"
   ]
  },
  {
   "cell_type": "code",
   "execution_count": 7,
   "id": "fa054704-2d1e-4b82-82ea-596e08c2d1c7",
   "metadata": {},
   "outputs": [
    {
     "name": "stdout",
     "output_type": "stream",
     "text": [
      "5\n",
      "4\n",
      "3\n",
      "2\n",
      "1\n",
      "0\n"
     ]
    }
   ],
   "source": [
    "#using for loop\n",
    "from array import*\n",
    "arr1=array('i',[10,20,30,40,50,60])\n",
    "type(arr1)\n",
    "n=len(arr1)\n",
    "for i in range(n-1,-1,-1):\n",
    "    print(i)"
   ]
  },
  {
   "cell_type": "code",
   "execution_count": 14,
   "id": "1e2a0f45-fed2-4d60-a9a5-11eae61f3251",
   "metadata": {},
   "outputs": [
    {
     "name": "stdout",
     "output_type": "stream",
     "text": [
      "3\n",
      "10\n",
      "20\n",
      "30\n",
      "40\n",
      "50\n",
      "-----\n",
      "10\n",
      "50\n"
     ]
    }
   ],
   "source": [
    "import array as arr\n",
    "x=arr.array('i',[10,30,40,50,80])\n",
    "type(x)\n",
    "x.insert(1,20)#insertion\n",
    "x.remove(80)#deletion\n",
    "print(x.index(40))#search\n",
    "for i in x:\n",
    "    print(i)\n",
    "print('-----')\n",
    "print(x[0])#accessing elements\n",
    "print(x[4])"
   ]
  },
  {
   "cell_type": "code",
   "execution_count": 12,
   "id": "26a514e5-b91c-479d-9da7-0e85cbc0d834",
   "metadata": {},
   "outputs": [
    {
     "name": "stdout",
     "output_type": "stream",
     "text": [
      "10\n",
      "20\n",
      "30\n",
      "40\n",
      "50\n"
     ]
    }
   ],
   "source": [
    "import numpy as np\n",
    "y=np.array([10,30,40,50])\n",
    "np.insert(y,1,20)\n",
    "for i in x:\n",
    "    print(i)"
   ]
  },
  {
   "cell_type": "code",
   "execution_count": null,
   "id": "1dc2149e-1e11-49f5-b149-a341488b82df",
   "metadata": {},
   "outputs": [],
   "source": []
  }
 ],
 "metadata": {
  "kernelspec": {
   "display_name": "Python 3 (ipykernel)",
   "language": "python",
   "name": "python3"
  },
  "language_info": {
   "codemirror_mode": {
    "name": "ipython",
    "version": 3
   },
   "file_extension": ".py",
   "mimetype": "text/x-python",
   "name": "python",
   "nbconvert_exporter": "python",
   "pygments_lexer": "ipython3",
   "version": "3.12.4"
  }
 },
 "nbformat": 4,
 "nbformat_minor": 5
}
