{
 "cells": [
  {
   "cell_type": "code",
   "execution_count": null,
   "id": "8b6b9f6a-79b2-43e6-8588-75910f368377",
   "metadata": {},
   "outputs": [],
   "source": [
    "#8 Write a recursive function to count the number of digit in an integer \n",
    "def count_digits(n):\n",
    "    # Base case: if the number is 0, return 0 (no digits)\n",
    "    if n == 0:\n",
    "        return 0\n",
    "    # Recursive case: 1 + count the digits of the rest of the number\n",
    "    return 1 + count_digits(n // 10)\n",
    "\n",
    "# Example usage:\n",
    "n = 12345\n",
    "print(f\"The number of digits in {n} is {count_digits(n)}\")\n"
   ]
  }
 ],
 "metadata": {
  "kernelspec": {
   "display_name": "Python 3 (ipykernel)",
   "language": "python",
   "name": "python3"
  },
  "language_info": {
   "codemirror_mode": {
    "name": "ipython",
    "version": 3
   },
   "file_extension": ".py",
   "mimetype": "text/x-python",
   "name": "python",
   "nbconvert_exporter": "python",
   "pygments_lexer": "ipython3",
   "version": "3.12.4"
  }
 },
 "nbformat": 4,
 "nbformat_minor": 5
}
