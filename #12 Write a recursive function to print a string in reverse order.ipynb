{
 "cells": [
  {
   "cell_type": "code",
   "execution_count": null,
   "id": "8afb0518-282c-4565-ad4d-d3d9636f0822",
   "metadata": {},
   "outputs": [],
   "source": [
    "#12 Write a recursive function to print a string in reverse order\n",
    "def reverse_string(s):\n",
    "    # Base case: if the string is empty, return\n",
    "    if s == \"\":\n",
    "        return\n",
    "    # Recursive case: print the last character and recurse with the rest of the string\n",
    "    print(s[-1], end=\"\")  # Print the last character\n",
    "    reverse_string(s[:-1])  # Recurse with the rest of the string\n",
    "\n",
    "# Example usage:\n",
    "s = \"hello\"\n",
    "print(\"Reversed string:\", end=\" \")\n",
    "reverse_string(s)\n"
   ]
  }
 ],
 "metadata": {
  "kernelspec": {
   "display_name": "Python 3 (ipykernel)",
   "language": "python",
   "name": "python3"
  },
  "language_info": {
   "codemirror_mode": {
    "name": "ipython",
    "version": 3
   },
   "file_extension": ".py",
   "mimetype": "text/x-python",
   "name": "python",
   "nbconvert_exporter": "python",
   "pygments_lexer": "ipython3",
   "version": "3.12.4"
  }
 },
 "nbformat": 4,
 "nbformat_minor": 5
}
