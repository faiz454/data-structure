{
 "cells": [
  {
   "cell_type": "code",
   "execution_count": 1,
   "id": "d1106bc4-6eaa-431e-b83b-c832a3574aae",
   "metadata": {},
   "outputs": [
    {
     "name": "stdout",
     "output_type": "stream",
     "text": [
      "original array [1, 2, 3, 4, 5]\n",
      "product array [120, 60, 40, 30, 24]\n"
     ]
    }
   ],
   "source": [
    "import numpy as np\n",
    "import math\n",
    "x=([1,2,3,4,5])\n",
    "def prod_div(x):\n",
    "    tot=math.prod(x)\n",
    "    prod_arr=[]\n",
    "    for i in x:\n",
    "        prod_arr.append(tot//i)\n",
    "    return prod_arr\n",
    "\n",
    "print(\"original array\",x)\n",
    "res=prod_div(x)\n",
    "print(\"product array\",res)"
   ]
  },
  {
   "cell_type": "code",
   "execution_count": null,
   "id": "12f234d2-6bf6-45f6-aab2-673d1eff4f27",
   "metadata": {},
   "outputs": [],
   "source": []
  }
 ],
 "metadata": {
  "kernelspec": {
   "display_name": "Python 3 (ipykernel)",
   "language": "python",
   "name": "python3"
  },
  "language_info": {
   "codemirror_mode": {
    "name": "ipython",
    "version": 3
   },
   "file_extension": ".py",
   "mimetype": "text/x-python",
   "name": "python",
   "nbconvert_exporter": "python",
   "pygments_lexer": "ipython3",
   "version": "3.12.4"
  }
 },
 "nbformat": 4,
 "nbformat_minor": 5
}
