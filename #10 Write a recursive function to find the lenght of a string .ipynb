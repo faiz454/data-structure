{
 "cells": [
  {
   "cell_type": "code",
   "execution_count": null,
   "id": "e917aafc-b652-4990-a654-f40ad27e3a2f",
   "metadata": {},
   "outputs": [],
   "source": [
    "#10 Write a recursive function to find the lenght of a string \n",
    "def string_length(s):\n",
    "    # Base case: if the string is empty, return 0\n",
    "    if s == \"\":\n",
    "        return 0\n",
    "    # Recursive case: 1 + length of the remaining string\n",
    "    return 1 + string_length(s[1:])\n",
    "\n",
    "# Example usage:\n",
    "s = \"hello\"\n",
    "print(f\"The length of the string '{s}' is {string_length(s)}\")\n"
   ]
  }
 ],
 "metadata": {
  "kernelspec": {
   "display_name": "Python 3 (ipykernel)",
   "language": "python",
   "name": "python3"
  },
  "language_info": {
   "codemirror_mode": {
    "name": "ipython",
    "version": 3
   },
   "file_extension": ".py",
   "mimetype": "text/x-python",
   "name": "python",
   "nbconvert_exporter": "python",
   "pygments_lexer": "ipython3",
   "version": "3.12.4"
  }
 },
 "nbformat": 4,
 "nbformat_minor": 5
}
