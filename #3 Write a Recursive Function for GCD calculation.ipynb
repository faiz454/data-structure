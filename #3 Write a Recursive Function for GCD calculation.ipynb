{
 "cells": [
  {
   "cell_type": "code",
   "execution_count": null,
   "id": "ca211cca-95b7-49f3-922d-ef05a035bff3",
   "metadata": {},
   "outputs": [],
   "source": [
    "#3 Write a Recursive Function for GCD calculation\n",
    "def gcd(a, b):\n",
    "    # Base case: if b becomes 0, the GCD is a\n",
    "    if b == 0:\n",
    "        return a\n",
    "    # Recursive case: call gcd with b and the remainder of a divided by b\n",
    "    return gcd(b, a % b)\n",
    "\n",
    "# Example usage:\n",
    "a = 56\n",
    "b = 98\n",
    "print(f\"The GCD of {a} and {b} is {gcd(a, b)}\")\n"
   ]
  }
 ],
 "metadata": {
  "kernelspec": {
   "display_name": "Python 3 (ipykernel)",
   "language": "python",
   "name": "python3"
  },
  "language_info": {
   "codemirror_mode": {
    "name": "ipython",
    "version": 3
   },
   "file_extension": ".py",
   "mimetype": "text/x-python",
   "name": "python",
   "nbconvert_exporter": "python",
   "pygments_lexer": "ipython3",
   "version": "3.12.4"
  }
 },
 "nbformat": 4,
 "nbformat_minor": 5
}
