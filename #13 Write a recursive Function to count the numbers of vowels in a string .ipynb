{
 "cells": [
  {
   "cell_type": "code",
   "execution_count": null,
   "id": "718f5903-0137-41a6-a59d-29c637cfd2e1",
   "metadata": {},
   "outputs": [],
   "source": [
    "#13 Write a recursive Function to count the numbers of vowels in a string \n",
    "def count_vowels(s):\n",
    "    # Base case: if the string is empty, return 0\n",
    "    if s == \"\":\n",
    "        return 0\n",
    "    \n",
    "    # Check if the first character is a vowel (a, e, i, o, u)\n",
    "    if s[0].lower() in 'aeiou':\n",
    "        return 1 + count_vowels(s[1:])  # Add 1 and recurse for the rest of the string\n",
    "    else:\n",
    "        return count_vowels(s[1:])  # Just recurse for the rest of the string\n",
    "\n",
    "# Example usage:\n",
    "s = \"hello world\"\n",
    "print(f\"The number of vowels in the string '{s}' is {count_vowels(s)}\")\n"
   ]
  }
 ],
 "metadata": {
  "kernelspec": {
   "display_name": "Python 3 (ipykernel)",
   "language": "python",
   "name": "python3"
  },
  "language_info": {
   "codemirror_mode": {
    "name": "ipython",
    "version": 3
   },
   "file_extension": ".py",
   "mimetype": "text/x-python",
   "name": "python",
   "nbconvert_exporter": "python",
   "pygments_lexer": "ipython3",
   "version": "3.12.4"
  }
 },
 "nbformat": 4,
 "nbformat_minor": 5
}
