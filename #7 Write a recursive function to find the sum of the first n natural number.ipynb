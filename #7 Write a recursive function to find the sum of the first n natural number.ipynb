{
 "cells": [
  {
   "cell_type": "code",
   "execution_count": null,
   "id": "724ee3ce-0e10-43b7-a19a-5ebdd7312a42",
   "metadata": {},
   "outputs": [],
   "source": [
    "#7 Write a recursive function to find the sum of the first n natural number\n",
    "def sum_of_natural_numbers(n):\n",
    "    # Base case: if n is 0, the sum is 0\n",
    "    if n == 0:\n",
    "        return 0\n",
    "    # Recursive case: sum of n is n + sum of (n-1)\n",
    "    return n + sum_of_natural_numbers(n - 1)\n",
    "\n",
    "# Example usage:\n",
    "n = 5\n",
    "print(f\"The sum of the first {n} natural numbers is {sum_of_natural_numbers(n)}\")\n"
   ]
  }
 ],
 "metadata": {
  "kernelspec": {
   "display_name": "Python 3 (ipykernel)",
   "language": "python",
   "name": "python3"
  },
  "language_info": {
   "codemirror_mode": {
    "name": "ipython",
    "version": 3
   },
   "file_extension": ".py",
   "mimetype": "text/x-python",
   "name": "python",
   "nbconvert_exporter": "python",
   "pygments_lexer": "ipython3",
   "version": "3.12.4"
  }
 },
 "nbformat": 4,
 "nbformat_minor": 5
}
