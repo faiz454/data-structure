{
 "cells": [
  {
   "cell_type": "code",
   "execution_count": null,
   "id": "4b35ec29-6cb5-4fb6-9337-a15896a10140",
   "metadata": {},
   "outputs": [],
   "source": [
    "#6 write a recursive function to count the numbers of zeroes in an integer\n",
    "def count_zeroes(n):\n",
    "    # Base case: if the number becomes 0, return 0 (no more digits to check)\n",
    "    if n == 0:\n",
    "        return 0\n",
    "    \n",
    "    # Check if the last digit is 0\n",
    "    last_digit = n % 10\n",
    "    if last_digit == 0:\n",
    "        return 1 + count_zeroes(n // 10)  # Add 1 and recurse for the rest of the number\n",
    "    else:\n",
    "        return count_zeroes(n // 10)  # Recurse for the rest of the number without adding\n",
    "\n",
    "# Example usage:\n",
    "n = 1045020\n",
    "print(f\"The number of zeroes in {n} is {count_zeroes(n)}\")\n"
   ]
  }
 ],
 "metadata": {
  "kernelspec": {
   "display_name": "Python 3 (ipykernel)",
   "language": "python",
   "name": "python3"
  },
  "language_info": {
   "codemirror_mode": {
    "name": "ipython",
    "version": 3
   },
   "file_extension": ".py",
   "mimetype": "text/x-python",
   "name": "python",
   "nbconvert_exporter": "python",
   "pygments_lexer": "ipython3",
   "version": "3.12.4"
  }
 },
 "nbformat": 4,
 "nbformat_minor": 5
}
