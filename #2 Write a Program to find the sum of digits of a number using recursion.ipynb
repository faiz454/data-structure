{
 "cells": [
  {
   "cell_type": "code",
   "execution_count": null,
   "id": "2c763803-e0ea-4f74-815c-dabefb17285c",
   "metadata": {},
   "outputs": [],
   "source": [
    "#2 Write a Program to find the sum of digits of a number using recursion\n",
    "def sum_of_digits(n):\n",
    "    # Base case: when n is 0, return 0\n",
    "    if n == 0:\n",
    "        return 0\n",
    "    else:\n",
    "        # Recursive case: sum the last digit and call the function with n // 10\n",
    "        return n % 10 + sum_of_digits(n // 10)\n",
    "\n",
    "# Example usage\n",
    "number = int(input(\"Enter a number: \"))\n",
    "result = sum_of_digits(number)\n",
    "print(f\"The sum of digits of {number} is: {result}\")"
   ]
  }
 ],
 "metadata": {
  "kernelspec": {
   "display_name": "Python 3 (ipykernel)",
   "language": "python",
   "name": "python3"
  },
  "language_info": {
   "codemirror_mode": {
    "name": "ipython",
    "version": 3
   },
   "file_extension": ".py",
   "mimetype": "text/x-python",
   "name": "python",
   "nbconvert_exporter": "python",
   "pygments_lexer": "ipython3",
   "version": "3.12.4"
  }
 },
 "nbformat": 4,
 "nbformat_minor": 5
}
