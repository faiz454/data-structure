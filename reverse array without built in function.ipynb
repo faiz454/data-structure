{
 "cells": [
  {
   "cell_type": "code",
   "execution_count": 2,
   "id": "51da7382-5436-4051-af2e-eaacd517329c",
   "metadata": {},
   "outputs": [
    {
     "name": "stdout",
     "output_type": "stream",
     "text": [
      "[60 50 40 30 20 10]\n"
     ]
    }
   ],
   "source": [
    "#slicing method\n",
    "import numpy as np\n",
    "x=np.array([10,20,30,40,50,60])\n",
    "def reve(x):\n",
    "    return x[::-1]\n",
    "\n",
    "resul=reve(x)\n",
    "print(resul)"
   ]
  },
  {
   "cell_type": "code",
   "execution_count": 3,
   "id": "02eac8b1-e4c0-45fb-93e0-f25db811fca1",
   "metadata": {},
   "outputs": [
    {
     "name": "stdout",
     "output_type": "stream",
     "text": [
      "[10 20 30 40 50 60  0]\n"
     ]
    }
   ],
   "source": []
  },
  {
   "cell_type": "code",
   "execution_count": null,
   "id": "8a565f86-e36a-4a47-bb4a-99725a69613f",
   "metadata": {},
   "outputs": [],
   "source": []
  }
 ],
 "metadata": {
  "kernelspec": {
   "display_name": "Python 3 (ipykernel)",
   "language": "python",
   "name": "python3"
  },
  "language_info": {
   "codemirror_mode": {
    "name": "ipython",
    "version": 3
   },
   "file_extension": ".py",
   "mimetype": "text/x-python",
   "name": "python",
   "nbconvert_exporter": "python",
   "pygments_lexer": "ipython3",
   "version": "3.12.4"
  }
 },
 "nbformat": 4,
 "nbformat_minor": 5
}
