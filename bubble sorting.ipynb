{
 "cells": [
  {
   "cell_type": "code",
   "execution_count": 1,
   "id": "cd26b90e-c3dc-4daa-9342-4fdd77cb12f3",
   "metadata": {},
   "outputs": [
    {
     "name": "stdin",
     "output_type": "stream",
     "text": [
      "enter no of elements 4\n",
      "enter elements 1\n",
      "enter elements 3\n",
      "enter elements 4\n",
      "enter elements 7\n"
     ]
    },
    {
     "name": "stdout",
     "output_type": "stream",
     "text": [
      "the sorted eleemnts arer:\n",
      "1 3 4 7 "
     ]
    }
   ],
   "source": [
    "def bubble_sort(list):\n",
    "    size=len(list)\n",
    "    for i in range(size-1):\n",
    "        for j in range(size-1):\n",
    "            if list[j]>list[j+1]:\n",
    "                temp=list[j]\n",
    "                list[j]=list[j+1]\n",
    "                list[j+1]=temp\n",
    "\n",
    "n=int(input(\"enter no of elements\"))\n",
    "lst=[]\n",
    "for i in range(n):\n",
    "    num=int(input(\"enter elements\"))\n",
    "    lst.append(num)\n",
    "\n",
    "bubble_sort(lst)\n",
    "print(\"the sorted eleemnts arer:\")\n",
    "for i in range(n):\n",
    "    print(lst[i],end=\" \")"
   ]
  },
  {
   "cell_type": "code",
   "execution_count": null,
   "id": "5384167d-7c15-411e-afd2-1d7613264ea9",
   "metadata": {},
   "outputs": [],
   "source": [
    "def bubble_sort(list):\n",
    "    size=len(list)\n",
    "    for i in range(size-1):\n",
    "        for j in range(size-1):\n",
    "            if list[j]>list[j+1]:\n",
    "                temp=list[j]\n",
    "                list[j]=list[j+1]\n",
    "                list[j+1]=temp\n",
    "\n",
    "n=int(input())\n",
    "lst=[]\n",
    "for i in range(n):\n",
    "    num=int(input())\n",
    "    lst.append(num)\n",
    "\n",
    "bubble_sort(lst)\n",
    "print(\"sorted elememnts\")\n",
    "for i in range(n):\n",
    "    print(lst"
   ]
  }
 ],
 "metadata": {
  "kernelspec": {
   "display_name": "Python 3 (ipykernel)",
   "language": "python",
   "name": "python3"
  },
  "language_info": {
   "codemirror_mode": {
    "name": "ipython",
    "version": 3
   },
   "file_extension": ".py",
   "mimetype": "text/x-python",
   "name": "python",
   "nbconvert_exporter": "python",
   "pygments_lexer": "ipython3",
   "version": "3.12.4"
  }
 },
 "nbformat": 4,
 "nbformat_minor": 5
}
