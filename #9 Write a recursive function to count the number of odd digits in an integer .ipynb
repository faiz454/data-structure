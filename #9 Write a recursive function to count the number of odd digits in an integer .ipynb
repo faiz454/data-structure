{
 "cells": [
  {
   "cell_type": "code",
   "execution_count": null,
   "id": "0d955638-ee56-4a5e-9934-0e2499fe985c",
   "metadata": {},
   "outputs": [],
   "source": [
    "#9 Write a recursive function to count the number of odd digits in an integer \n",
    "def count_odd_digits(n):\n",
    "    # Base case: if n is 0, return 0 (no digits left)\n",
    "    if n == 0:\n",
    "        return 0\n",
    "    \n",
    "    # Check if the last digit is odd\n",
    "    last_digit = n % 10\n",
    "    if last_digit % 2 != 0:  # If the last digit is odd\n",
    "        return 1 + count_odd_digits(n // 10)  # Add 1 and recurse for the remaining digits\n",
    "    else:\n",
    "        return count_odd_digits(n // 10)  # Just recurse for the remaining digits\n",
    "\n",
    "# Example usage:\n",
    "n = 123456\n",
    "print(f\"The number of odd digits in {n} is {count_odd_digits(n)}\")\n"
   ]
  }
 ],
 "metadata": {
  "kernelspec": {
   "display_name": "Python 3 (ipykernel)",
   "language": "python",
   "name": "python3"
  },
  "language_info": {
   "codemirror_mode": {
    "name": "ipython",
    "version": 3
   },
   "file_extension": ".py",
   "mimetype": "text/x-python",
   "name": "python",
   "nbconvert_exporter": "python",
   "pygments_lexer": "ipython3",
   "version": "3.12.4"
  }
 },
 "nbformat": 4,
 "nbformat_minor": 5
}
